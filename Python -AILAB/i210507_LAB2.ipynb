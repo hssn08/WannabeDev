{
  "nbformat": 4,
  "nbformat_minor": 0,
  "metadata": {
    "colab": {
      "provenance": []
    },
    "kernelspec": {
      "name": "python3",
      "display_name": "Python 3"
    },
    "language_info": {
      "name": "python"
    }
  },
  "cells": [
    {
      "cell_type": "code",
      "execution_count": 18,
      "metadata": {
        "id": "84cz-7fhlYsZ",
        "colab": {
          "base_uri": "https://localhost:8080/"
        },
        "outputId": "d5801654-dd61-42a7-dbfe-d6e3e3c87a05"
      },
      "outputs": [
        {
          "output_type": "stream",
          "name": "stdout",
          "text": [
            "knocker160@gmail.com\n",
            "i210507@nu.edu.pk\n"
          ]
        }
      ],
      "source": [
        "import re\n",
        "\n",
        "def findemail(text):\n",
        "  pattern = r'\\b[A-Za-z0-9._%+-]+@[A-Za-z0-9.-]+\\.[A-Z|a-z]{2,}\\b'\n",
        "  emails = re.findall(pattern, text)\n",
        "  return list(set(emails))\n",
        "\n",
        "text = \"\"\"hello i am hassan my email is knocker160@gmail.com[] and i hate i210507@nu.edu.pk\"\"\"\n",
        "newtext=findemail(text)\n",
        "for email in newtext:\n",
        " print(email)\n",
        "\n"
      ]
    },
    {
      "cell_type": "code",
      "source": [
        "reversefunction = lambda s: s[::-1]\n",
        "ispalindrome = lambda s: s == reversefunction(s)\n",
        "\n",
        "def checkpalindrome(wordlist):\n",
        "  palindromes=[]\n",
        "  for word in wordlist:\n",
        "    if ispalindrome(word):\n",
        "        palindromes.append(\"yes\")\n",
        "    else:\n",
        "        palindromes.append(\"no\")\n",
        "  return palindromes\n",
        "wordlist=[\"racecar\",\"fast\",\"abcba\"]\n",
        "print(wordlist)\n",
        "palindromelist=checkpalindrome(wordlist)\n",
        "print(palindromelist)"
      ],
      "metadata": {
        "id": "MFlxGDdIlfSv",
        "colab": {
          "base_uri": "https://localhost:8080/"
        },
        "outputId": "e63fe6e1-5dba-4b3e-ceb1-eebc6f26d667"
      },
      "execution_count": 33,
      "outputs": [
        {
          "output_type": "stream",
          "name": "stdout",
          "text": [
            "['racecar', 'fast', 'abcba']\n",
            "['yes', 'no', 'yes']\n"
          ]
        }
      ]
    },
    {
      "cell_type": "code",
      "source": [
        "class Product:\n",
        "  def __init__(self, productid, name, price):\n",
        "   self.productid=productid\n",
        "   self.name=name\n",
        "   self.price=price\n",
        "  def displaydetails(self):\n",
        "   print(self.productid)\n",
        "   print(self.name)\n",
        "   print(self.price)\n",
        "  def applydiscount(self, discount):\n",
        "   self.price -= discount\n",
        "\n",
        "class Electronics(Product):\n",
        "  def __init__(self, product_id, name, price, brand):\n",
        "    super().__init__(product_id, name, price)\n",
        "    self.brand = brand\n",
        "  def displaydetails(self):\n",
        "    super().displaydetails()\n",
        "    print(self.brand)\n",
        "\n",
        "class Clothing(Product):\n",
        "  def __init__(self, product_id, name, price, size):\n",
        "    super().__init__(product_id, name, price)\n",
        "    self.size = size\n",
        "\n",
        "  def displaydetails(self):\n",
        "    super().display\n",
        "    details()\n",
        "    print(self.size)\n",
        "\n",
        "def shopping(cart):\n",
        "  totalprice = 0\n",
        "  print(\"Shopping Cart:\")\n",
        "  for item in cart:\n",
        "      item.displaydetails()\n",
        "      totalprice += item.price\n",
        "      print()\n",
        "\n",
        "  print(\"Total Price: \", totalprice)\n",
        "\n",
        "product1 = Electronics(\"1\", \"Fridge\", 1200, \"haier\")\n",
        "product2 = Clothing(\"2\", \"Shalwarkamez\", 200, \"M\")\n",
        "\n",
        "cart = [product1, product2]\n",
        "\n",
        "shopping(cart)\n",
        "\n",
        "\n"
      ],
      "metadata": {
        "colab": {
          "base_uri": "https://localhost:8080/"
        },
        "id": "vyKVifBRqgoA",
        "outputId": "97b610a1-afe3-4a17-f2d3-c064409c7a3e"
      },
      "execution_count": 34,
      "outputs": [
        {
          "output_type": "stream",
          "name": "stdout",
          "text": [
            "Shopping Cart:\n",
            "1\n",
            "Fridge\n",
            "1200\n",
            "haier\n",
            "\n",
            "2\n",
            "Shalwarkamez\n",
            "200\n",
            "M\n",
            "\n",
            "Total Price:  1400\n"
          ]
        }
      ]
    },
    {
      "cell_type": "code",
      "source": [],
      "metadata": {
        "id": "rD4m_6lxsJ7e"
      },
      "execution_count": null,
      "outputs": []
    }
  ]
}