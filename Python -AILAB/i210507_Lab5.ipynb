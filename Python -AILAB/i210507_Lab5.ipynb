{
  "nbformat": 4,
  "nbformat_minor": 0,
  "metadata": {
    "colab": {
      "provenance": []
    },
    "kernelspec": {
      "name": "python3",
      "display_name": "Python 3"
    },
    "language_info": {
      "name": "python"
    }
  },
  "cells": [
    {
      "cell_type": "code",
      "execution_count": 5,
      "metadata": {
        "colab": {
          "base_uri": "https://localhost:8080/"
        },
        "id": "Ch6sOqiJj-Wi",
        "outputId": "5271d4ea-cd79-4c64-b2bb-b10e31e0a4a2"
      },
      "outputs": [
        {
          "output_type": "stream",
          "name": "stdout",
          "text": [
            "Shortest Path:  ['Arad', 'Sibiu', 'Rimnicu Vilcea', 'Pitesti', 'Bucharest']\n",
            "Cost:  418\n"
          ]
        }
      ],
      "source": [
        "def depth_first_search(graph, start, goal, path=None, cost=0):\n",
        "    if path is None:\n",
        "        path = [start]\n",
        "\n",
        "    if start == goal:\n",
        "        return [path], [cost]\n",
        "\n",
        "    all_paths = []\n",
        "    all_costs = []\n",
        "    for neighbour, distance in graph[start].items():\n",
        "        if neighbour not in path:\n",
        "            new_cost = cost + distance\n",
        "            new_path, new_cost = depth_first_search(graph, neighbour, goal, path + [neighbour], new_cost)\n",
        "            all_paths.extend(new_path)\n",
        "            all_costs.extend(new_cost)\n",
        "\n",
        "    return all_paths, all_costs\n",
        "\n",
        "graph = {\n",
        "    'Arad': {'Zerind': 75, 'Sibiu': 140, 'Timisoara': 118},\n",
        "    'Zerind': {'Arad': 75, 'Oradea': 71},\n",
        "    'Oradea': {'Zerind': 71, 'Sibiu': 151},\n",
        "    'Sibiu': {'Arad': 140, 'Oradea': 151, 'Fagaras': 99, 'Rimnicu Vilcea': 80},\n",
        "    'Timisoara': {'Arad': 118, 'Lugoj': 111},\n",
        "    'Lugoj': {'Timisoara': 111, 'Mehadia': 70},\n",
        "    'Mehadia': {'Lugoj': 70, 'Drobeta': 75},\n",
        "    'Drobeta': {'Mehadia': 75, 'Craiova': 120},\n",
        "    'Craiova': {'Drobeta': 120, 'Rimnicu Vilcea': 146, 'Pitesti': 138},\n",
        "    'Rimnicu Vilcea': {'Sibiu': 80, 'Craiova': 146, 'Pitesti': 97},\n",
        "    'Fagaras': {'Sibiu': 99, 'Bucharest': 211},\n",
        "    'Pitesti': {'Rimnicu Vilcea': 97, 'Craiova': 138, 'Bucharest': 101},\n",
        "    'Bucharest': {'Fagaras': 211, 'Pitesti': 101}\n",
        "}\n",
        "\n",
        "start_node = 'Arad'\n",
        "goal_node = 'Bucharest'\n",
        "all_paths, all_costs = depth_first_search(graph, start_node, goal_node)\n",
        "shortest_cost_index = all_costs.index(min(all_costs))\n",
        "shortest_path = all_paths[shortest_cost_index]\n",
        "shortest_cost = all_costs[shortest_cost_index]\n",
        "\n",
        "print(\"Shortest Path: \", shortest_path)\n",
        "print(\"Cost: \", shortest_cost)\n"
      ]
    },
    {
      "cell_type": "code",
      "source": [
        "from queue import PriorityQueue\n",
        "\n",
        "DIMENSION = 5\n",
        "\n",
        "area = [\n",
        "    [13, 23, 31, 47, 59],\n",
        "    [17, 29, 37, 53, 67],\n",
        "    [19, 33, 41, 61, 71],\n",
        "    [21, 43, 49, 73, 79],\n",
        "    [27, 39, 53, 79, 89]\n",
        "]\n",
        "\n",
        "objective = (4, 4)\n",
        "\n",
        "\n",
        "def search(area, start, goal):\n",
        "    moves = [(-1, 0), (1, 0), (0, -1), (0, 1)]\n",
        "    trail = PriorityQueue()\n",
        "    trail.put((0, start))\n",
        "    expense = {start: 0}\n",
        "\n",
        "    while not trail.empty():\n",
        "        current_cost, current_node = trail.get()\n",
        "\n",
        "        if current_node == goal:\n",
        "            break\n",
        "\n",
        "        for move in moves:\n",
        "            offset_x, offset_y = move\n",
        "            neighbor = (current_node[0] + offset_x, current_node[1] + offset_y)\n",
        "\n",
        "            if 0 <= neighbor[0] < DIMENSION and 0 <= neighbor[1] < DIMENSION:\n",
        "                new_cost = current_cost + area[neighbor[0]][neighbor[1]]\n",
        "\n",
        "                if neighbor not in expense or new_cost < expense[neighbor]:\n",
        "                    expense[neighbor] = new_cost\n",
        "                    trail.put((new_cost, neighbor))\n",
        "\n",
        "    return expense[goal]\n",
        "\n",
        "\n",
        "start_position = (0, 0)\n",
        "cost_to_goal = search(area, start_position, objective)\n",
        "print(\"Total expense to achieve the target:\", cost_to_goal)\n"
      ],
      "metadata": {
        "colab": {
          "base_uri": "https://localhost:8080/"
        },
        "id": "OPnjdmOcyLON",
        "outputId": "8725fd55-d15b-4296-ae12-951bcbd10885"
      },
      "execution_count": 2,
      "outputs": [
        {
          "output_type": "stream",
          "name": "stdout",
          "text": [
            "Total expense to achieve the target: 344\n"
          ]
        }
      ]
    }
  ]
}