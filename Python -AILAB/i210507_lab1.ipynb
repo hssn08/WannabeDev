{
  "nbformat": 4,
  "nbformat_minor": 0,
  "metadata": {
    "colab": {
      "provenance": []
    },
    "kernelspec": {
      "name": "python3",
      "display_name": "Python 3"
    },
    "language_info": {
      "name": "python"
    }
  },
  "cells": [
    {
      "cell_type": "markdown",
      "source": [
        "i210507 Hassan Abbas"
      ],
      "metadata": {
        "id": "FstdnXOC1CuT"
      }
    },
    {
      "cell_type": "code",
      "execution_count": null,
      "metadata": {
        "colab": {
          "base_uri": "https://localhost:8080/"
        },
        "id": "JzogrpgNn5N2",
        "outputId": "709a2191-5b16-4b01-b3a5-5b95b484ca25"
      },
      "outputs": [
        {
          "output_type": "stream",
          "name": "stdout",
          "text": [
            "giv key hehe: 2\n",
            "Product Key: 2\n",
            "Name: dairy milk chocolate\n",
            "Quantity: 13\n"
          ]
        }
      ],
      "source": [
        "inventory = {\n",
        "    '1': {'name':'lays chips','quantity':300},\n",
        "    '2': {'name':'dairy milk chocolate','quantity':13},\n",
        "    '3': {'name':'coke','quantity':2},\n",
        "\n",
        "\n",
        "}\n",
        "def check_thing(key):\n",
        "    if key in inventory:\n",
        "        product_details = inventory[key]\n",
        "        print(f\"Product Key: {key}\")\n",
        "        print(f\"Name: {product_details['name']}\")\n",
        "        print(f\"Quantity: {product_details['quantity']}\")\n",
        "    else:\n",
        "        print(f\"'{key}' not found in the inventory.\")\n",
        "\n",
        "user_key = input(\"giv key hehe: \")\n",
        "check_thing(user_key)\n"
      ]
    },
    {
      "cell_type": "markdown",
      "source": [
        "# New Section"
      ],
      "metadata": {
        "id": "4Y8FDPrk1jdC"
      }
    },
    {
      "cell_type": "markdown",
      "source": [
        "Task 1"
      ],
      "metadata": {
        "id": "mxu3lwj2pR5N"
      }
    },
    {
      "cell_type": "code",
      "source": [
        "players = [\n",
        "    ('hassan', 15, 5, 30),\n",
        "    ('abbas', 10, 8, 40),\n",
        "    ('bilal', 20, 3, 90),\n",
        "    # goal assist playtime\n",
        "]\n",
        "\n",
        "def sort(players, index):\n",
        "    index = int(index)\n",
        "    for i in range(len(players) - 1):\n",
        "        for j in range(i + 1, len(players)):\n",
        "            if players[i][index] < players[j][index]:\n",
        "                players[i], players[j] = players[j], players[i]\n",
        "\n",
        "    return players\n",
        "\n",
        "user_key = input(\" 1 for goals, 2 for assists, 3 for playtime: \")\n",
        "sorted_players = sort(players, user_key)\n",
        "\n",
        "if sorted_players:\n",
        "    print(\"sorted hehe:\")\n",
        "    for player in sorted_players:\n",
        "        print(f\"name: {player[0]}, goals: {player[1]}, assists: {player[2]}, playing Time: {player[3]} minutes\")\n"
      ],
      "metadata": {
        "colab": {
          "base_uri": "https://localhost:8080/"
        },
        "id": "NnTxnozMrGXi",
        "outputId": "92a8d55b-52b7-4a93-9100-56ab82765e15"
      },
      "execution_count": null,
      "outputs": [
        {
          "output_type": "stream",
          "name": "stdout",
          "text": [
            " 1 for goals, 2 for assists, 3 for playtime: 2\n",
            "sorted hehe:\n",
            "name: abbas, goals: 10, assists: 8, playing Time: 40 minutes\n",
            "name: hassan, goals: 15, assists: 5, playing Time: 30 minutes\n",
            "name: bilal, goals: 20, assists: 3, playing Time: 90 minutes\n"
          ]
        }
      ]
    },
    {
      "cell_type": "markdown",
      "source": [
        "task 2"
      ],
      "metadata": {
        "id": "bO8npV4avMNs"
      }
    },
    {
      "cell_type": "code",
      "source": [
        "class Transport1:\n",
        "    def initiate(self):\n",
        "        self.vehicles = []\n",
        "        self.routes = {}\n",
        "        self.schedule = {}\n",
        "\n",
        "    def addvehicle(self, vehicle_id, route_id):\n",
        "        if vehicle_id not in self.vehicles:\n",
        "            self.vehicles.append(vehicle_id)\n",
        "            if route_id not in self.routes:\n",
        "                self.routes[route_id] = []\n",
        "            self.routes[route_id].append(vehicle_id)\n",
        "\n",
        "    def addschedule(self, vehicle_id, schedule):\n",
        "        self.schedule[vehicle_id] = schedule\n",
        "\n",
        "    def display(self):\n",
        "        print(\"Transportation Network:\")\n",
        "        print(\"Vehicles:\", self.vehicles)\n",
        "        print(\"Routes:\", self.routes)\n",
        "        print(\"Schedules:\", self.schedule)\n",
        "\n",
        "transport = Transport1()\n",
        "transport.initiate()\n",
        "transport.addvehicle(\"daewoo\", \"lahore\")\n",
        "transport.addvehicle(\"airblue\", \"isl\")\n",
        "transport.addschedule(\"daewoo\", [\"8 am\", \"10pm\"])\n",
        "transport.addschedule(\"airblue\", [\"9am\", \"11am\"])\n",
        "transport.display()\n",
        "\n"
      ],
      "metadata": {
        "colab": {
          "base_uri": "https://localhost:8080/"
        },
        "id": "nBxG5riUw6i7",
        "outputId": "df1b08af-2136-44cc-b75a-397b090b7ced"
      },
      "execution_count": null,
      "outputs": [
        {
          "output_type": "stream",
          "name": "stdout",
          "text": [
            "Transportation Network:\n",
            "Vehicles: ['daewoo', 'airblue']\n",
            "Routes: {'lahore': ['daewoo'], 'isl': ['airblue']}\n",
            "Schedules: {'daewoo': ['8 am', '10pm'], 'airblue': ['9am', '11am']}\n"
          ]
        }
      ]
    },
    {
      "cell_type": "markdown",
      "source": [
        "task 3"
      ],
      "metadata": {
        "id": "-B-bxAJ9zqw8"
      }
    },
    {
      "cell_type": "code",
      "source": [
        "#Task1\n",
        "data_points = [(2, 5), (1, 3), (4, 8), (3, 6), (2, 7)]\n",
        "sorted_tuples = []\n",
        "\n",
        "for i in range(len(data_points)):\n",
        "    for j in range(i + 1, len(data_points)):\n",
        "        if sum(data_points[j]) > sum(data_points[i]):\n",
        "            data_points[i], data_points[j] = data_points[j], data_points[i]\n",
        "\n",
        "sorted_tuples = data_points\n",
        "# Task2\n",
        "isprime1 = []\n",
        "\n",
        "def is_prime(num):\n",
        "    if num < 2:\n",
        "        return False\n",
        "    for i in range(2, int(num**0.5) + 1):\n",
        "        if num % i == 0:\n",
        "            return False\n",
        "    return True\n",
        "for tup in sorted_tuples:\n",
        "    if is_prime(tup[0]) and is_prime(tup[1]):\n",
        "        isprime1.append(tup)\n",
        "\n",
        "# Task3\n",
        "second_elements = tuple([tup[1] for tup in isprime1])\n",
        "\n",
        "# Task4\n",
        "product = 1\n",
        "for element in second_elements:\n",
        "    product *= element\n",
        "\n",
        "print(\"sort:\", sorted_tuples)\n",
        "print(\"Prime:\", isprime1)\n",
        "print(\"Second:\", second_elements)\n",
        "print(\"Product:\", product)"
      ],
      "metadata": {
        "colab": {
          "base_uri": "https://localhost:8080/"
        },
        "id": "t1aeazpGzv9r",
        "outputId": "667f0282-6acd-4548-e3a1-7a2015cf6e01"
      },
      "execution_count": null,
      "outputs": [
        {
          "output_type": "stream",
          "name": "stdout",
          "text": [
            "sort: [(4, 8), (3, 6), (2, 7), (2, 5), (1, 3)]\n",
            "Prime: [(2, 7), (2, 5)]\n",
            "Second: (7, 5)\n",
            "Product: 35\n"
          ]
        }
      ]
    },
    {
      "cell_type": "markdown",
      "source": [
        "task4"
      ],
      "metadata": {
        "id": "e8gsYgng1ArF"
      }
    }
  ]
}