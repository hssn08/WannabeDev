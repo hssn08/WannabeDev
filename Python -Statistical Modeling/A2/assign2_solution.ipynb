{
 "cells": [
  {
   "cell_type": "markdown",
   "id": "ba4fe29c-5f88-4bfa-8fd6-855a66393cd7",
   "metadata": {},
   "source": [
    "# Solution Assignment 2\n",
    "Linear Regression Model of Iris dataset "
   ]
  },
  {
   "cell_type": "markdown",
   "id": "92e618ff",
   "metadata": {},
   "source": [
    "## Package imports"
   ]
  },
  {
   "cell_type": "code",
   "execution_count": 17,
   "id": "857349c0-a109-45be-a3a2-6c401bc4d33c",
   "metadata": {},
   "outputs": [],
   "source": [
    "import pymc as pm\n",
    "import numpy as np\n",
    "import pandas as pd\n",
    "import scipy.stats as stats\n",
    "import matplotlib.pyplot as plt\n",
    "import arviz as az"
   ]
  },
  {
   "cell_type": "markdown",
   "id": "b945aa87",
   "metadata": {},
   "source": [
    "## Read dataset"
   ]
  },
  {
   "cell_type": "code",
   "execution_count": 18,
   "id": "c04064c3",
   "metadata": {},
   "outputs": [],
   "source": [
    "df = pd.read_csv('iris.csv')\n",
    "petal_length = df['petal_length']\n",
    "sepal_length = df['sepal_length']\n",
    "petal_width = df['petal_width']"
   ]
  },
  {
   "cell_type": "markdown",
   "id": "1103a091-051e-43db-a9a0-9689723e2b4f",
   "metadata": {},
   "source": [
    "## Pearson Coefficient Calculations"
   ]
  },
  {
   "cell_type": "code",
   "execution_count": 19,
   "id": "0befeb27-ad46-4f82-9bf2-7d698f34fc84",
   "metadata": {},
   "outputs": [
    {
     "data": {
      "text/plain": [
       "PearsonRResult(statistic=0.8179411262715756, pvalue=2.3254980797931636e-37)"
      ]
     },
     "execution_count": 19,
     "metadata": {},
     "output_type": "execute_result"
    }
   ],
   "source": [
    "stats.pearsonr(sepal_length,petal_width)"
   ]
  },
  {
   "cell_type": "code",
   "execution_count": 20,
   "id": "5bb13f40-e4f1-4ee6-8ec4-b3211b8d6262",
   "metadata": {},
   "outputs": [
    {
     "data": {
      "text/plain": [
       "PearsonRResult(statistic=0.962865431402796, pvalue=4.675003907328653e-86)"
      ]
     },
     "execution_count": 20,
     "metadata": {},
     "output_type": "execute_result"
    }
   ],
   "source": [
    "stats.pearsonr(petal_length,petal_width)"
   ]
  },
  {
   "cell_type": "markdown",
   "id": "d38fe332",
   "metadata": {},
   "source": [
    "## Conclusion\n",
    "Petal length has greater Pearson Coefficient, meaning stronger positive linear correlation. Sepal Length is Pearson Coefficient is positive but lesser in magnitude so it has a relatively weaker positive linear correlation. So X1 is  Petal Length, and X2 is Sepal Length. "
   ]
  },
  {
   "cell_type": "markdown",
   "id": "b2d9f81d-ad08-49f0-b395-9c26ab8f796f",
   "metadata": {},
   "source": [
    "## Model 1 (Based on Petal Length)"
   ]
  },
  {
   "cell_type": "code",
   "execution_count": 21,
   "id": "45e2864c-ffb4-4130-b662-289c7b1508f2",
   "metadata": {},
   "outputs": [
    {
     "data": {
      "text/plain": [
       "Text(0, 0.5, 'y')"
      ]
     },
     "execution_count": 21,
     "metadata": {},
     "output_type": "execute_result"
    },
    {
     "data": {
      "image/png": "[encoded data removed]",
      "text/plain": [
       "<Figure size 800x400 with 2 Axes>"
      ]
     },
     "metadata": {},
     "output_type": "display_data"
    }
   ],
   "source": [
    "_, ax = plt.subplots(1,2,figsize=(8, 4))\n",
    "ax[0].plot(petal_length, petal_width, 'C0.')\n",
    "ax[0].set_xlabel('petal_length')\n",
    "ax[0].set_ylabel('petal_width', rotation=0)\n",
    "\n",
    "#Normalize Data\n",
    "x = (petal_length-petal_length.mean())/petal_length.std()\n",
    "y = (petal_width - petal_width.mean())/ petal_width.std()\n",
    "\n",
    "ax[1].plot(x, y, 'C0.')\n",
    "ax[1].set_xlabel('x')\n",
    "ax[1].set_ylabel('y', rotation=0)\n"
   ]
  },
  {
   "cell_type": "code",
   "execution_count": 22,
   "id": "1e7b5bb8-2fa1-4aff-83cd-2fb6d9ffc1dd",
   "metadata": {},
   "outputs": [
    {
     "name": "stderr",
     "output_type": "stream",
     "text": [
      "Auto-assigning NUTS sampler...\n",
      "Initializing NUTS using jitter+adapt_diag...\n",
      "Multiprocess sampling (4 chains in 4 jobs)\n",
      "NUTS: [α, β, ϵ]\n"
     ]
    },
    {
     "data": {
      "text/html": [
       "\n",
       "<style>\n",
       "    /* Turns off some styling */\n",
       "    progress {\n",
       "        /* gets rid of default border in Firefox and Opera. */\n",
       "        border: none;\n",
       "        /* Needs to be in here for Safari polyfill so background images work as expected. */\n",
       "        background-size: auto;\n",
       "    }\n",
       "    progress:not([value]), progress:not([value])::-webkit-progress-bar {\n",
       "        background: repeating-linear-gradient(45deg, #7e7e7e, #7e7e7e 10px, #5c5c5c 10px, #5c5c5c 20px);\n",
       "    }\n",
       "    .progress-bar-interrupted, .progress-bar-interrupted::-webkit-progress-bar {\n",
       "        background: #F44336;\n",
       "    }\n",
       "</style>\n"
      ],
      "text/plain": [
       "<IPython.core.display.HTML object>"
      ]
     },
     "metadata": {},
     "output_type": "display_data"
    },
    {
     "data": {
      "text/html": [
       "\n",
       "    <div>\n",
       "      <progress value='8000' class='' max='8000' style='width:300px; height:20px; vertical-align: middle;'></progress>\n",
       "      100.00% [8000/8000 00:01&lt;00:00 Sampling 4 chains, 0 divergences]\n",
       "    </div>\n",
       "    "
      ],
      "text/plain": [
       "<IPython.core.display.HTML object>"
      ]
     },
     "metadata": {},
     "output_type": "display_data"
    },
    {
     "name": "stderr",
     "output_type": "stream",
     "text": [
      "Sampling 4 chains for 1_000 tune and 1_000 draw iterations (4_000 + 4_000 draws total) took 1 seconds.\n"
     ]
    }
   ],
   "source": [
    "with pm.Model() as PetalLengthModel:\n",
    "    α = pm.Normal('α', mu=0, sigma=10)\n",
    "    β = pm.Normal('β', mu=0, sigma=1)\n",
    "    ϵ = pm.HalfCauchy('ϵ', 5)\n",
    "\n",
    "    μ = pm.Deterministic('μ', α + β * x)\n",
    "    y_pred = pm.Normal('y_pred', mu=μ, sigma=ϵ, observed=y)\n",
    "\n",
    "    idata_g = pm.sample(1000, tune=1000)"
   ]
  },
  {
   "cell_type": "markdown",
   "id": "181f9243-ca86-415b-bb24-9e7406eb05a8",
   "metadata": {},
   "source": [
    "## R-Squared for model 1"
   ]
  },
  {
   "cell_type": "code",
   "execution_count": 23,
   "id": "f0ee7c76-3f3f-4281-8e6e-a4131d0f7c74",
   "metadata": {},
   "outputs": [
    {
     "name": "stderr",
     "output_type": "stream",
     "text": [
      "Sampling: [y_pred]\n"
     ]
    },
    {
     "data": {
      "text/html": [
       "\n",
       "<style>\n",
       "    /* Turns off some styling */\n",
       "    progress {\n",
       "        /* gets rid of default border in Firefox and Opera. */\n",
       "        border: none;\n",
       "        /* Needs to be in here for Safari polyfill so background images work as expected. */\n",
       "        background-size: auto;\n",
       "    }\n",
       "    progress:not([value]), progress:not([value])::-webkit-progress-bar {\n",
       "        background: repeating-linear-gradient(45deg, #7e7e7e, #7e7e7e 10px, #5c5c5c 10px, #5c5c5c 20px);\n",
       "    }\n",
       "    .progress-bar-interrupted, .progress-bar-interrupted::-webkit-progress-bar {\n",
       "        background: #F44336;\n",
       "    }\n",
       "</style>\n"
      ],
      "text/plain": [
       "<IPython.core.display.HTML object>"
      ]
     },
     "metadata": {},
     "output_type": "display_data"
    },
    {
     "data": {
      "text/html": [
       "\n",
       "    <div>\n",
       "      <progress value='4000' class='' max='4000' style='width:300px; height:20px; vertical-align: middle;'></progress>\n",
       "      100.00% [4000/4000 00:00&lt;00:00]\n",
       "    </div>\n",
       "    "
      ],
      "text/plain": [
       "<IPython.core.display.HTML object>"
      ]
     },
     "metadata": {},
     "output_type": "display_data"
    }
   ],
   "source": [
    "ppc = pm.sample_posterior_predictive(idata_g, model=PetalLengthModel)"
   ]
  },
  {
   "cell_type": "code",
   "execution_count": 24,
   "id": "e5d72e81-b14c-447e-9de7-c19945b0f1d3",
   "metadata": {},
   "outputs": [
    {
     "data": {
      "text/plain": [
       "r2        0.87101\n",
       "r2_std    0.01431\n",
       "dtype: float64"
      ]
     },
     "execution_count": 24,
     "metadata": {},
     "output_type": "execute_result"
    }
   ],
   "source": [
    "y_true = y.to_numpy()\n",
    "y_pred_ppc = az.extract(ppc, group=\"posterior_predictive\", var_names=\"y_pred\").values.T\n",
    "az.r2_score(y_true, y_pred_ppc)"
   ]
  },
  {
   "cell_type": "markdown",
   "id": "8418e8c7-1b7c-4da1-bfe4-9aa8312c5e95",
   "metadata": {},
   "source": [
    "## Model 2 Sepal Length"
   ]
  },
  {
   "cell_type": "code",
   "execution_count": 25,
   "id": "49b5c67c-b062-42c4-a474-176e14ac5476",
   "metadata": {},
   "outputs": [
    {
     "data": {
      "text/plain": [
       "Text(0, 0.5, 'y')"
      ]
     },
     "execution_count": 25,
     "metadata": {},
     "output_type": "execute_result"
    },
    {
     "data": {
      "image/png": "[encoded data removed]",
      "text/plain": [
       "<Figure size 800x400 with 2 Axes>"
      ]
     },
     "metadata": {},
     "output_type": "display_data"
    }
   ],
   "source": [
    "_, ax = plt.subplots(1,2,figsize=(8, 4))\n",
    "ax[0].plot(sepal_length, petal_width, 'C0.')\n",
    "ax[0].set_xlabel('sepal_length')\n",
    "ax[0].set_ylabel('petal_width', rotation=0)\n",
    "\n",
    "# Normalize Data\n",
    "x = (sepal_length-sepal_length.mean())/sepal_length.std()\n",
    "\n",
    "ax[1].plot(x, y, 'C0.')\n",
    "ax[1].set_xlabel('x')\n",
    "ax[1].set_ylabel('y', rotation=0)"
   ]
  },
  {
   "cell_type": "code",
   "execution_count": 26,
   "id": "23fab088-b689-4b2a-a11b-9fac53c215a4",
   "metadata": {},
   "outputs": [
    {
     "name": "stderr",
     "output_type": "stream",
     "text": [
      "Auto-assigning NUTS sampler...\n",
      "Initializing NUTS using jitter+adapt_diag...\n",
      "Multiprocess sampling (4 chains in 4 jobs)\n",
      "NUTS: [α, β, ϵ]\n"
     ]
    },
    {
     "data": {
      "text/html": [
       "\n",
       "<style>\n",
       "    /* Turns off some styling */\n",
       "    progress {\n",
       "        /* gets rid of default border in Firefox and Opera. */\n",
       "        border: none;\n",
       "        /* Needs to be in here for Safari polyfill so background images work as expected. */\n",
       "        background-size: auto;\n",
       "    }\n",
       "    progress:not([value]), progress:not([value])::-webkit-progress-bar {\n",
       "        background: repeating-linear-gradient(45deg, #7e7e7e, #7e7e7e 10px, #5c5c5c 10px, #5c5c5c 20px);\n",
       "    }\n",
       "    .progress-bar-interrupted, .progress-bar-interrupted::-webkit-progress-bar {\n",
       "        background: #F44336;\n",
       "    }\n",
       "</style>\n"
      ],
      "text/plain": [
       "<IPython.core.display.HTML object>"
      ]
     },
     "metadata": {},
     "output_type": "display_data"
    },
    {
     "data": {
      "text/html": [
       "\n",
       "    <div>\n",
       "      <progress value='8000' class='' max='8000' style='width:300px; height:20px; vertical-align: middle;'></progress>\n",
       "      100.00% [8000/8000 00:01&lt;00:00 Sampling 4 chains, 0 divergences]\n",
       "    </div>\n",
       "    "
      ],
      "text/plain": [
       "<IPython.core.display.HTML object>"
      ]
     },
     "metadata": {},
     "output_type": "display_data"
    },
    {
     "name": "stderr",
     "output_type": "stream",
     "text": [
      "Sampling 4 chains for 1_000 tune and 1_000 draw iterations (4_000 + 4_000 draws total) took 1 seconds.\n"
     ]
    }
   ],
   "source": [
    "with pm.Model() as SepalLengthModel:\n",
    "    α = pm.Normal('α', mu=0, sigma=10)\n",
    "    β = pm.Normal('β', mu=0, sigma=1)\n",
    "    ϵ = pm.HalfCauchy('ϵ', 5)\n",
    "\n",
    "    μ = pm.Deterministic('μ', α + β * x)\n",
    "    y_pred = pm.Normal('y_pred', mu=μ, sigma=ϵ, observed=y)\n",
    "\n",
    "    idata_g = pm.sample(1000, tune=1000)"
   ]
  },
  {
   "cell_type": "markdown",
   "id": "d3323b1b-7d88-4724-80d6-33cb1567586d",
   "metadata": {},
   "source": [
    "### R-Squared for model 2 ###"
   ]
  },
  {
   "cell_type": "code",
   "execution_count": 27,
   "id": "a440ab2f-a540-4c04-a986-c5df7be768d4",
   "metadata": {},
   "outputs": [
    {
     "name": "stderr",
     "output_type": "stream",
     "text": [
      "Sampling: [y_pred]\n"
     ]
    },
    {
     "data": {
      "text/html": [
       "\n",
       "<style>\n",
       "    /* Turns off some styling */\n",
       "    progress {\n",
       "        /* gets rid of default border in Firefox and Opera. */\n",
       "        border: none;\n",
       "        /* Needs to be in here for Safari polyfill so background images work as expected. */\n",
       "        background-size: auto;\n",
       "    }\n",
       "    progress:not([value]), progress:not([value])::-webkit-progress-bar {\n",
       "        background: repeating-linear-gradient(45deg, #7e7e7e, #7e7e7e 10px, #5c5c5c 10px, #5c5c5c 20px);\n",
       "    }\n",
       "    .progress-bar-interrupted, .progress-bar-interrupted::-webkit-progress-bar {\n",
       "        background: #F44336;\n",
       "    }\n",
       "</style>\n"
      ],
      "text/plain": [
       "<IPython.core.display.HTML object>"
      ]
     },
     "metadata": {},
     "output_type": "display_data"
    },
    {
     "data": {
      "text/html": [
       "\n",
       "    <div>\n",
       "      <progress value='4000' class='' max='4000' style='width:300px; height:20px; vertical-align: middle;'></progress>\n",
       "      100.00% [4000/4000 00:00&lt;00:00]\n",
       "    </div>\n",
       "    "
      ],
      "text/plain": [
       "<IPython.core.display.HTML object>"
      ]
     },
     "metadata": {},
     "output_type": "display_data"
    },
    {
     "data": {
      "text/plain": [
       "r2        0.598454\n",
       "r2_std    0.034090\n",
       "dtype: float64"
      ]
     },
     "execution_count": 27,
     "metadata": {},
     "output_type": "execute_result"
    }
   ],
   "source": [
    "ppc = pm.sample_posterior_predictive(idata_g, model=SepalLengthModel)\n",
    "y_pred_ppc = az.extract(ppc, group=\"posterior_predictive\", var_names=\"y_pred\").values.T\n",
    "az.r2_score(y_true, y_pred_ppc)"
   ]
  },
  {
   "cell_type": "markdown",
   "id": "f7ec4fec-1b2a-475e-b83e-9a2113849392",
   "metadata": {},
   "source": [
    "# Conclusion\n",
    "- 87% of variance in Petal width is due to change in petal length\n",
    "- 59% of variance in Petal width is due to change in sepal length"
   ]
  }
 ],
 "metadata": {
  "kernelspec": {
   "display_name": "Python 3 (ipykernel)",
   "language": "python",
   "name": "python3"
  },
  "language_info": {
   "codemirror_mode": {
    "name": "ipython",
    "version": 3
   },
   "file_extension": ".py",
   "mimetype": "text/x-python",
   "name": "python",
   "nbconvert_exporter": "python",
   "pygments_lexer": "ipython3",
   "version": "3.11.5"
  }
 },
 "nbformat": 4,
 "nbformat_minor": 5
}
